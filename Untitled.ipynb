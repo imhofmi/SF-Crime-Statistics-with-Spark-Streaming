{
 "cells": [
  {
   "cell_type": "code",
   "execution_count": 25,
   "metadata": {
    "editable": true
   },
   "outputs": [],
   "source": [
    "import logging\n",
    "import json\n",
    "from pyspark.sql import SparkSession\n",
    "from pyspark.sql.types import *\n",
    "import pyspark.sql.functions as psf"
   ]
  },
  {
   "cell_type": "code",
   "execution_count": 26,
   "metadata": {
    "editable": true
   },
   "outputs": [],
   "source": [
    "schema = StructType([\n",
    "    StructField(\"crime_id\", StringType(), True),\n",
    "    StructField(\"original_crime_type_name\", StringType(), True),\n",
    "    StructField(\"report_date\", StringType(), True),\n",
    "    StructField(\"call_date\", StringType(), True),\n",
    "    StructField(\"offense_date\", StringType(), True),\n",
    "    StructField(\"call_time\", StringType(), True),\n",
    "    StructField(\"call_date_time\", StringType(), True),\n",
    "    StructField(\"disposition\", StringType(), True),\n",
    "    StructField(\"address\", StringType(), True),\n",
    "    StructField(\"city\", StringType(), True),\n",
    "    StructField(\"state\", StringType(), True),\n",
    "    StructField(\"agency_id\", StringType(), True),\n",
    "    StructField(\"address_type\", StringType(), True),\n",
    "    StructField(\"common_location\", StringType(), True)    \n",
    "])"
   ]
  },
  {
   "cell_type": "code",
   "execution_count": 27,
   "metadata": {
    "editable": true
   },
   "outputs": [],
   "source": [
    "    spark = SparkSession \\\n",
    "        .builder \\\n",
    "        .master(\"local[*]\") \\\n",
    "        .appName(\"KafkaSparkStructuredStreaming\") \\\n",
    "        .getOrCreate()"
   ]
  },
  {
   "cell_type": "code",
   "execution_count": 28,
   "metadata": {
    "editable": true
   },
   "outputs": [],
   "source": [
    "    df = spark.read.option(\"multiline\",\"true\") \\\n",
    "      .json(\"./police-department-calls-for-service.json\")"
   ]
  },
  {
   "cell_type": "code",
   "execution_count": 29,
   "metadata": {
    "editable": true
   },
   "outputs": [
    {
     "name": "stdout",
     "output_type": "stream",
     "text": [
      "root\n",
      " |-- address: string (nullable = true)\n",
      " |-- address_type: string (nullable = true)\n",
      " |-- agency_id: string (nullable = true)\n",
      " |-- call_date: string (nullable = true)\n",
      " |-- call_date_time: string (nullable = true)\n",
      " |-- call_time: string (nullable = true)\n",
      " |-- city: string (nullable = true)\n",
      " |-- common_location: string (nullable = true)\n",
      " |-- crime_id: string (nullable = true)\n",
      " |-- disposition: string (nullable = true)\n",
      " |-- offense_date: string (nullable = true)\n",
      " |-- original_crime_type_name: string (nullable = true)\n",
      " |-- report_date: string (nullable = true)\n",
      " |-- state: string (nullable = true)\n",
      "\n"
     ]
    }
   ],
   "source": [
    "    df.printSchema()"
   ]
  },
  {
   "cell_type": "code",
   "execution_count": 30,
   "metadata": {
    "editable": true
   },
   "outputs": [
    {
     "name": "stdout",
     "output_type": "stream",
     "text": [
      "root\n",
      " |-- address: string (nullable = true)\n",
      " |-- address_type: string (nullable = true)\n",
      " |-- agency_id: string (nullable = true)\n",
      " |-- call_date: string (nullable = true)\n",
      " |-- call_date_time: string (nullable = true)\n",
      " |-- call_time: string (nullable = true)\n",
      " |-- city: string (nullable = true)\n",
      " |-- common_location: string (nullable = true)\n",
      " |-- crime_id: string (nullable = true)\n",
      " |-- disposition: string (nullable = true)\n",
      " |-- offense_date: string (nullable = true)\n",
      " |-- original_crime_type_name: string (nullable = true)\n",
      " |-- report_date: string (nullable = true)\n",
      " |-- state: string (nullable = true)\n",
      "\n"
     ]
    }
   ],
   "source": [
    "    kafka_df = df#.selectExpr(\"CAST(value AS STRING)\")\n",
    "\n",
    "    service_table = kafka_df\n",
    "    \n",
    "    service_table.printSchema()"
   ]
  },
  {
   "cell_type": "code",
   "execution_count": 32,
   "metadata": {
    "editable": true
   },
   "outputs": [
    {
     "name": "stdout",
     "output_type": "stream",
     "text": [
      "root\n",
      " |-- call_date_time: string (nullable = true)\n",
      " |-- original_crime_type_name: string (nullable = true)\n",
      " |-- disposition: string (nullable = true)\n",
      "\n",
      "+--------------------+------------------------+------------+\n",
      "|      call_date_time|original_crime_type_name| disposition|\n",
      "+--------------------+------------------------+------------+\n",
      "|2018-12-31T22:53:...|      Auto Boost / Strip|         REP|\n",
      "|2018-12-31T17:10:...|         Muni Inspection|Not recorded|\n",
      "|2018-12-31T17:07:...|         Muni Inspection|Not recorded|\n",
      "|2018-12-31T16:47:...|            Passing Call|Not recorded|\n",
      "|2018-12-31T16:38:...|                  Family|         HAN|\n",
      "|2018-12-31T13:38:...|                  7.2.27|         CAN|\n",
      "|2018-12-31T13:37:...|      Suspicious Vehicle|          ND|\n",
      "|2018-12-31T13:17:...|            Passing Call|         HAN|\n",
      "|2018-12-31T11:32:...|          Stolen Vehicle|         REP|\n",
      "|2018-12-31T08:31:...|             Grand Theft|         UTL|\n",
      "|2018-12-31T07:51:...|           Audible Alarm|         NOM|\n",
      "|2018-12-30T21:47:...|      Mentally Disturbed|         HAN|\n",
      "|2018-12-30T18:24:...|            Passing Call|         HAN|\n",
      "|2018-12-30T18:07:...|            Passing Call|          ND|\n",
      "|2018-12-30T17:57:...|       Strongarm Robbery|          ND|\n",
      "|2018-12-30T15:52:...|            Passing Call|Not recorded|\n",
      "|2018-12-30T14:35:...|            Passing Call|Not recorded|\n",
      "|2018-12-30T13:43:...|                 Chp/586|         CAN|\n",
      "|2018-12-30T12:38:...|            Passing Call|Not recorded|\n",
      "|2018-12-30T12:28:...|            Traffic Stop|         ADV|\n",
      "+--------------------+------------------------+------------+\n",
      "only showing top 20 rows\n",
      "\n"
     ]
    }
   ],
   "source": [
    "    distinct_table = service_table.select(\n",
    "        service_table.call_date_time,\n",
    "        service_table.original_crime_type_name,\n",
    "        service_table.disposition\n",
    "    ) \\\n",
    "    .distinct()\n",
    "    \n",
    "    distinct_table.printSchema()\n",
    "    \n",
    "    distinct_table.show(30, False)"
   ]
  },
  {
   "cell_type": "code",
   "execution_count": 37,
   "metadata": {
    "editable": true
   },
   "outputs": [
    {
     "name": "stdout",
     "output_type": "stream",
     "text": [
      "root\n",
      " |-- window: struct (nullable = true)\n",
      " |    |-- start: timestamp (nullable = true)\n",
      " |    |-- end: timestamp (nullable = true)\n",
      " |-- original_crime_type_name: string (nullable = true)\n",
      " |-- disposition: string (nullable = true)\n",
      " |-- count: long (nullable = false)\n",
      "\n",
      "+------------------------------------------+------------------------+-----------+-----+\n",
      "|window                                    |original_crime_type_name|disposition|count|\n",
      "+------------------------------------------+------------------------+-----------+-----+\n",
      "|[2018-11-30 15:15:00, 2018-11-30 15:45:00]|Passing Call            |HAN        |24   |\n",
      "|[2018-10-30 18:10:00, 2018-10-30 18:40:00]|Passing Call            |HAN        |23   |\n",
      "|[2018-11-30 15:16:00, 2018-11-30 15:46:00]|Passing Call            |HAN        |23   |\n",
      "|[2018-11-30 15:17:00, 2018-11-30 15:47:00]|Passing Call            |HAN        |23   |\n",
      "|[2018-11-30 15:14:00, 2018-11-30 15:44:00]|Passing Call            |HAN        |23   |\n",
      "|[2018-11-30 15:18:00, 2018-11-30 15:48:00]|Passing Call            |HAN        |22   |\n",
      "|[2018-12-11 19:10:00, 2018-12-11 19:40:00]|Passing Call            |HAN        |22   |\n",
      "|[2018-10-30 18:09:00, 2018-10-30 18:39:00]|Passing Call            |HAN        |22   |\n",
      "|[2018-11-30 15:13:00, 2018-11-30 15:43:00]|Passing Call            |HAN        |22   |\n",
      "|[2018-11-30 15:12:00, 2018-11-30 15:42:00]|Passing Call            |HAN        |22   |\n",
      "|[2018-10-30 18:01:00, 2018-10-30 18:31:00]|Passing Call            |HAN        |22   |\n",
      "|[2018-11-30 15:21:00, 2018-11-30 15:51:00]|Passing Call            |HAN        |22   |\n",
      "|[2018-11-30 15:11:00, 2018-11-30 15:41:00]|Passing Call            |HAN        |22   |\n",
      "|[2018-10-30 18:11:00, 2018-10-30 18:41:00]|Passing Call            |HAN        |22   |\n",
      "|[2018-11-30 15:19:00, 2018-11-30 15:49:00]|Passing Call            |HAN        |22   |\n",
      "|[2018-10-30 18:13:00, 2018-10-30 18:43:00]|Passing Call            |HAN        |22   |\n",
      "|[2018-10-30 18:02:00, 2018-10-30 18:32:00]|Passing Call            |HAN        |22   |\n",
      "|[2018-12-11 19:11:00, 2018-12-11 19:41:00]|Passing Call            |HAN        |21   |\n",
      "|[2018-11-30 15:20:00, 2018-11-30 15:50:00]|Passing Call            |HAN        |21   |\n",
      "|[2018-10-14 18:06:00, 2018-10-14 18:36:00]|Passing Call            |HAN        |21   |\n",
      "|[2018-10-14 18:05:00, 2018-10-14 18:35:00]|Passing Call            |HAN        |21   |\n",
      "|[2018-10-30 18:06:00, 2018-10-30 18:36:00]|Passing Call            |HAN        |21   |\n",
      "|[2018-10-30 18:08:00, 2018-10-30 18:38:00]|Passing Call            |HAN        |21   |\n",
      "|[2018-10-19 17:48:00, 2018-10-19 18:18:00]|Passing Call            |HAN        |21   |\n",
      "|[2018-11-30 15:10:00, 2018-11-30 15:40:00]|Passing Call            |HAN        |21   |\n",
      "|[2018-12-11 19:06:00, 2018-12-11 19:36:00]|Passing Call            |HAN        |21   |\n",
      "|[2018-10-30 17:59:00, 2018-10-30 18:29:00]|Passing Call            |HAN        |21   |\n",
      "|[2018-11-07 14:52:00, 2018-11-07 15:22:00]|Passing Call            |HAN        |21   |\n",
      "|[2018-12-11 19:08:00, 2018-12-11 19:38:00]|Passing Call            |HAN        |21   |\n",
      "|[2018-12-11 19:07:00, 2018-12-11 19:37:00]|Passing Call            |HAN        |21   |\n",
      "+------------------------------------------+------------------------+-----------+-----+\n",
      "only showing top 30 rows\n",
      "\n"
     ]
    }
   ],
   "source": [
    "    agg_df = distinct_table.select(\n",
    "        distinct_table.call_date_time,\n",
    "        distinct_table.original_crime_type_name, \n",
    "        distinct_table.disposition\n",
    "    ) \\\n",
    "    .withWatermark(\"call_date_time\", \"5 minutes\") \\\n",
    "    .groupby(psf.window(distinct_table.call_date_time,\"30 minutes\",\"1 minute\"), distinct_table.original_crime_type_name, distinct_table.disposition) \\\n",
    "    .count() \\\n",
    "    .orderBy(\"count\", ascending=False)\n",
    "    \n",
    "    agg_df.printSchema()\n",
    "    \n",
    "    agg_df.show(30, False)"
   ]
  },
  {
   "cell_type": "code",
   "execution_count": 43,
   "metadata": {
    "editable": true
   },
   "outputs": [
    {
     "name": "stdout",
     "output_type": "stream",
     "text": [
      "+--------------------+-----------+\n",
      "|         description|disposition|\n",
      "+--------------------+-----------+\n",
      "|              Abated|        ABA|\n",
      "|          Admonished|        ADM|\n",
      "|             Advised|        ADV|\n",
      "|              Arrest|        ARR|\n",
      "|              Cancel|        CAN|\n",
      "|     CPSA assignment|        CSA|\n",
      "|              Cancel|         22|\n",
      "|               Cited|        CIT|\n",
      "| Criminal Activation|        CRM|\n",
      "|     Gone on Arrival|        GOA|\n",
      "|             Handled|        HAN|\n",
      "|        Non-Criminal|        NCR|\n",
      "|      No Disposition|         ND|\n",
      "|            No Merit|        NOM|\n",
      "|Premises Appears ...|        PAS|\n",
      "|              Report|        REP|\n",
      "|SFFD Medical Staf...|        SFD|\n",
      "|    Unable to Locate|        UTL|\n",
      "|Vehicle Appears S...|        VAS|\n",
      "+--------------------+-----------+\n",
      "\n",
      "+--------------------------+-----------+\n",
      "|description               |disposition|\n",
      "+--------------------------+-----------+\n",
      "|Abated                    |ABA        |\n",
      "|Admonished                |ADM        |\n",
      "|Advised                   |ADV        |\n",
      "|Arrest                    |ARR        |\n",
      "|Cancel                    |CAN        |\n",
      "|CPSA assignment           |CSA        |\n",
      "|Cancel                    |22         |\n",
      "|Cited                     |CIT        |\n",
      "|Criminal Activation       |CRM        |\n",
      "|Gone on Arrival           |GOA        |\n",
      "|Handled                   |HAN        |\n",
      "|Non-Criminal              |NCR        |\n",
      "|No Disposition            |ND         |\n",
      "|No Merit                  |NOM        |\n",
      "|Premises Appears Secure   |PAS        |\n",
      "|Report                    |REP        |\n",
      "|SFFD Medical Staff Engaged|SFD        |\n",
      "|Unable to Locate          |UTL        |\n",
      "|Vehicle Appears Secure    |VAS        |\n",
      "+--------------------------+-----------+\n",
      "\n",
      "root\n",
      " |-- disposition: string (nullable = true)\n",
      " |-- window: struct (nullable = true)\n",
      " |    |-- start: timestamp (nullable = true)\n",
      " |    |-- end: timestamp (nullable = true)\n",
      " |-- original_crime_type_name: string (nullable = true)\n",
      " |-- count: long (nullable = false)\n",
      " |-- description: string (nullable = true)\n",
      "\n",
      "+-----------+------------------------------------------+------------------------+-----+-----------+\n",
      "|disposition|window                                    |original_crime_type_name|count|description|\n",
      "+-----------+------------------------------------------+------------------------+-----+-----------+\n",
      "|HAN        |[2018-11-30 15:15:00, 2018-11-30 15:45:00]|Passing Call            |24   |Handled    |\n",
      "|HAN        |[2018-11-30 15:14:00, 2018-11-30 15:44:00]|Passing Call            |23   |Handled    |\n",
      "|HAN        |[2018-11-30 15:16:00, 2018-11-30 15:46:00]|Passing Call            |23   |Handled    |\n",
      "|HAN        |[2018-10-30 18:10:00, 2018-10-30 18:40:00]|Passing Call            |23   |Handled    |\n",
      "|HAN        |[2018-11-30 15:17:00, 2018-11-30 15:47:00]|Passing Call            |23   |Handled    |\n",
      "|HAN        |[2018-10-30 18:11:00, 2018-10-30 18:41:00]|Passing Call            |22   |Handled    |\n",
      "|HAN        |[2018-10-30 18:01:00, 2018-10-30 18:31:00]|Passing Call            |22   |Handled    |\n",
      "|HAN        |[2018-11-30 15:21:00, 2018-11-30 15:51:00]|Passing Call            |22   |Handled    |\n",
      "|HAN        |[2018-10-30 18:13:00, 2018-10-30 18:43:00]|Passing Call            |22   |Handled    |\n",
      "|HAN        |[2018-11-30 15:19:00, 2018-11-30 15:49:00]|Passing Call            |22   |Handled    |\n",
      "|HAN        |[2018-11-30 15:13:00, 2018-11-30 15:43:00]|Passing Call            |22   |Handled    |\n",
      "|HAN        |[2018-12-11 19:10:00, 2018-12-11 19:40:00]|Passing Call            |22   |Handled    |\n",
      "|HAN        |[2018-11-30 15:12:00, 2018-11-30 15:42:00]|Passing Call            |22   |Handled    |\n",
      "|HAN        |[2018-11-30 15:11:00, 2018-11-30 15:41:00]|Passing Call            |22   |Handled    |\n",
      "|HAN        |[2018-10-30 18:09:00, 2018-10-30 18:39:00]|Passing Call            |22   |Handled    |\n",
      "|HAN        |[2018-11-30 15:18:00, 2018-11-30 15:48:00]|Passing Call            |22   |Handled    |\n",
      "|HAN        |[2018-10-30 18:02:00, 2018-10-30 18:32:00]|Passing Call            |22   |Handled    |\n",
      "|HAN        |[2018-10-14 18:07:00, 2018-10-14 18:37:00]|Passing Call            |21   |Handled    |\n",
      "|HAN        |[2018-10-30 18:04:00, 2018-10-30 18:34:00]|Passing Call            |21   |Handled    |\n",
      "|HAN        |[2018-11-07 14:52:00, 2018-11-07 15:22:00]|Passing Call            |21   |Handled    |\n",
      "|HAN        |[2018-10-30 18:03:00, 2018-10-30 18:33:00]|Passing Call            |21   |Handled    |\n",
      "|HAN        |[2018-11-30 15:20:00, 2018-11-30 15:50:00]|Passing Call            |21   |Handled    |\n",
      "|HAN        |[2018-12-11 19:07:00, 2018-12-11 19:37:00]|Passing Call            |21   |Handled    |\n",
      "|HAN        |[2018-12-11 19:08:00, 2018-12-11 19:38:00]|Passing Call            |21   |Handled    |\n",
      "|HAN        |[2018-12-11 19:06:00, 2018-12-11 19:36:00]|Passing Call            |21   |Handled    |\n",
      "|HAN        |[2018-10-14 18:06:00, 2018-10-14 18:36:00]|Passing Call            |21   |Handled    |\n",
      "|HAN        |[2018-12-11 19:11:00, 2018-12-11 19:41:00]|Passing Call            |21   |Handled    |\n",
      "|HAN        |[2018-10-30 18:14:00, 2018-10-30 18:44:00]|Passing Call            |21   |Handled    |\n",
      "|HAN        |[2018-10-19 17:48:00, 2018-10-19 18:18:00]|Passing Call            |21   |Handled    |\n",
      "|HAN        |[2018-11-30 15:10:00, 2018-11-30 15:40:00]|Passing Call            |21   |Handled    |\n",
      "+-----------+------------------------------------------+------------------------+-----+-----------+\n",
      "only showing top 30 rows\n",
      "\n"
     ]
    }
   ],
   "source": [
    "    radio_code_json_filepath = \"./radio_code.json\"\n",
    "    radio_code_df = spark.read.option(\"multiline\",\"true\").json(radio_code_json_filepath)\n",
    "\n",
    "    # clean up your data so that the column names match on radio_code_df and agg_df\n",
    "    # we will want to join on the disposition code\n",
    "\n",
    "    # TODO rename disposition_code column to disposition\n",
    "    radio_code_df = radio_code_df.withColumnRenamed(\"disposition_code\", \"disposition\")\n",
    "    \n",
    "    radio_code_df.show(30, False)\n",
    "\n",
    "    # TODO join on disposition column\n",
    "    agg_df_join = agg_df \\\n",
    "        .join(radio_code_df, \"disposition\")\n",
    "        \n",
    "    agg_df_join.printSchema()\n",
    "    \n",
    "    agg_df_join.show(30, False)"
   ]
  },
  {
   "cell_type": "code",
   "execution_count": null,
   "metadata": {
    "editable": true
   },
   "outputs": [],
   "source": []
  }
 ],
 "metadata": {
  "kernelspec": {
   "display_name": "Python 3",
   "language": "python",
   "name": "python3"
  },
  "language_info": {
   "codemirror_mode": {
    "name": "ipython",
    "version": 3
   },
   "file_extension": ".py",
   "mimetype": "text/x-python",
   "name": "python",
   "nbconvert_exporter": "python",
   "pygments_lexer": "ipython3",
   "version": "3.7.3"
  }
 },
 "nbformat": 4,
 "nbformat_minor": 4
}
